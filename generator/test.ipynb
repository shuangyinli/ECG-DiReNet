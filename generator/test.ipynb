{
 "cells": [
  {
   "cell_type": "code",
   "execution_count": 9,
   "metadata": {},
   "outputs": [
    {
     "name": "stdout",
     "output_type": "stream",
     "text": [
      "(59823,) (59823, 2048)\n"
     ]
    }
   ],
   "source": [
    "import numpy as np\n",
    "\n",
    "a = np.load(\"good_data.npz\")\n",
    "\n",
    "data = a['data']\n",
    "label = a['label'] \n",
    "print(label.shape,data.shape)"
   ]
  },
  {
   "cell_type": "code",
   "execution_count": 7,
   "metadata": {},
   "outputs": [
    {
     "name": "stdout",
     "output_type": "stream",
     "text": [
      "(44571,)\n"
     ]
    }
   ],
   "source": [
    "label = np.ones(data.shape[0])\n",
    "print(label.shape)"
   ]
  },
  {
   "cell_type": "code",
   "execution_count": 8,
   "metadata": {},
   "outputs": [],
   "source": [
    "np.savez(\"bad_data.npz\",data=data,label=label)"
   ]
  },
  {
   "cell_type": "code",
   "execution_count": null,
   "metadata": {},
   "outputs": [],
   "source": [
    "from utils.clf_analysis import load_data, classify_analysis,KL_Wasserstein,distance_analysis\n",
    "\n",
    "# print(x_train.shape,x_gen.shape)\n",
    "# distance_analysis(raw_good_data[:7000,:], gen_good_data[:7000,:])\n",
    "distance_analysis(raw_bad_data[5000:12000,:], gen_bad_data[:7000,:])"
   ]
  }
 ],
 "metadata": {
  "kernelspec": {
   "display_name": "GANS",
   "language": "python",
   "name": "python3"
  },
  "language_info": {
   "codemirror_mode": {
    "name": "ipython",
    "version": 3
   },
   "file_extension": ".py",
   "mimetype": "text/x-python",
   "name": "python",
   "nbconvert_exporter": "python",
   "pygments_lexer": "ipython3",
   "version": "3.10.14"
  },
  "orig_nbformat": 4,
  "vscode": {
   "interpreter": {
    "hash": "60cbbe6351eb1f5094b636ddc5e53db1c05f9dbdc44f0ce0a5880f3d45a2a761"
   }
  }
 },
 "nbformat": 4,
 "nbformat_minor": 2
}
